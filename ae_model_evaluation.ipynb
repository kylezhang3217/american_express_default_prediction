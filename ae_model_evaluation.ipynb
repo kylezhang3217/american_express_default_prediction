{
 "cells": [
  {
   "cell_type": "code",
   "execution_count": 25,
   "metadata": {},
   "outputs": [],
   "source": [
    "import numpy as np\n",
    "import pandas as pd\n",
    "import seaborn as sns\n",
    "import matplotlib.pyplot as plt\n",
    "\n",
    "from sklearn.impute import SimpleImputer\n",
    "\n",
    "\n",
    "from data_validation_service import data_validation_service \n",
    "from data_persistence import save_object, load_object"
   ]
  },
  {
   "cell_type": "code",
   "execution_count": 26,
   "metadata": {},
   "outputs": [],
   "source": [
    "test_data = load_object('american_express_test_data')"
   ]
  },
  {
   "cell_type": "code",
   "execution_count": 33,
   "metadata": {},
   "outputs": [
    {
     "name": "stdout",
     "output_type": "stream",
     "text": [
      "(924621, 51)\n"
     ]
    }
   ],
   "source": [
    "test_data_features = test_data.drop('customer_ID', axis=1)\n",
    "test_data_features.head()\n",
    "print(test_data_features.shape)"
   ]
  },
  {
   "cell_type": "code",
   "execution_count": 34,
   "metadata": {},
   "outputs": [],
   "source": [
    "#impute missing values in column with mean\n",
    "imp = SimpleImputer(missing_values = np.nan, strategy = 'mean')\n",
    "imp.fit(test_data_features)\n",
    "test_data_features_non_null = imp.transform(test_data_features)"
   ]
  },
  {
   "cell_type": "code",
   "execution_count": 4,
   "metadata": {},
   "outputs": [],
   "source": [
    "# load models\n",
    "logistic_regression_model = load_object('logistic_regression_model')\n",
    "gradient_boosted_tree_model = load_object('gradient_boosted_tree_model')"
   ]
  },
  {
   "cell_type": "code",
   "execution_count": null,
   "metadata": {},
   "outputs": [],
   "source": [
    "models = [logistic_regression_model, gradient_boosted_tree_model]"
   ]
  },
  {
   "cell_type": "code",
   "execution_count": null,
   "metadata": {},
   "outputs": [],
   "source": [
    "prediction_output_columns = ['_0_prediction', 'prediction']\n",
    "for model in models:\n",
    "    predictions = model.predict_proba(test_data_features_non_null)\n",
    "    prediction_results_pd = pd.DataFrame(predictions, columns = prediction_output_columns)\n",
    "    prediction_results = pd.concat([test_data['customer_ID'], prediction_results_pd['prediction']], axis=1)\n"
   ]
  },
  {
   "cell_type": "code",
   "execution_count": 37,
   "metadata": {},
   "outputs": [],
   "source": [
    "logistic_regression_predictions = logistic_regression_model.predict_proba(test_data_features_non_null)"
   ]
  },
  {
   "cell_type": "code",
   "execution_count": 50,
   "metadata": {},
   "outputs": [],
   "source": [
    "lr_prediction = pd.DataFrame(logistic_regression_predictions, columns=['_0_prediction', 'prediction'])"
   ]
  },
  {
   "cell_type": "code",
   "execution_count": 51,
   "metadata": {},
   "outputs": [],
   "source": [
    "lr_prediction_results = pd.concat([test_data['customer_ID'], lr_prediction['prediction']], axis=1)"
   ]
  },
  {
   "cell_type": "code",
   "execution_count": 53,
   "metadata": {},
   "outputs": [],
   "source": [
    "lr_prediction_results.to_csv('lr_prediction_results.csv', header=True, index=False)"
   ]
  },
  {
   "cell_type": "code",
   "execution_count": 55,
   "metadata": {},
   "outputs": [],
   "source": [
    "gradient_boosted_tree_predictions = gradient_boosted_tree_model.predict_proba(test_data_features_non_null)"
   ]
  },
  {
   "cell_type": "code",
   "execution_count": 56,
   "metadata": {},
   "outputs": [],
   "source": [
    "gbt_prediction = pd.DataFrame(gradient_boosted_tree_predictions, columns=['_0_prediction', 'prediction'])\n",
    "gbt_prediction_results = pd.concat([test_data['customer_ID'], gbt_prediction['prediction']], axis=1)"
   ]
  },
  {
   "cell_type": "code",
   "execution_count": 58,
   "metadata": {},
   "outputs": [],
   "source": [
    "gbt_prediction_results.to_csv('gbt_prediction_results.csv', header=True, index=False)"
   ]
  },
  {
   "cell_type": "code",
   "execution_count": null,
   "metadata": {},
   "outputs": [],
   "source": []
  }
 ],
 "metadata": {
  "kernelspec": {
   "display_name": "Python 3",
   "language": "python",
   "name": "python3"
  },
  "language_info": {
   "codemirror_mode": {
    "name": "ipython",
    "version": 3
   },
   "file_extension": ".py",
   "mimetype": "text/x-python",
   "name": "python",
   "nbconvert_exporter": "python",
   "pygments_lexer": "ipython3",
   "version": "3.8.5"
  }
 },
 "nbformat": 4,
 "nbformat_minor": 4
}
