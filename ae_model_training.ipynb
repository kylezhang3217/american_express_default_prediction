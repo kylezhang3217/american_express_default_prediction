{
 "cells": [
  {
   "cell_type": "code",
   "execution_count": 20,
   "id": "c3d10bd4",
   "metadata": {},
   "outputs": [],
   "source": [
    "import numpy as np \n",
    "import pandas as pd\n",
    "\n",
    "# custom data services that act as wrapper around sklearn\n",
    "from data_vt_training.data_ml_models_service import data_ml_models_service\n",
    "from data_vt_training.data_training_service import data_training_service_classification"
   ]
  },
  {
   "cell_type": "code",
   "execution_count": null,
   "id": "cbe1e111",
   "metadata": {},
   "outputs": [],
   "source": []
  }
 ],
 "metadata": {
  "kernelspec": {
   "display_name": "Python 3",
   "language": "python",
   "name": "python3"
  },
  "language_info": {
   "codemirror_mode": {
    "name": "ipython",
    "version": 3
   },
   "file_extension": ".py",
   "mimetype": "text/x-python",
   "name": "python",
   "nbconvert_exporter": "python",
   "pygments_lexer": "ipython3",
   "version": "3.8.8"
  }
 },
 "nbformat": 4,
 "nbformat_minor": 5
}
